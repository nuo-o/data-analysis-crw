{
 "cells": [
  {
   "cell_type": "code",
   "execution_count": 30,
   "metadata": {},
   "outputs": [],
   "source": [
    "import pandas as pd\n",
    "import numpy as np\n",
    "import math\n",
    "import matplotlib.pyplot as plt\n",
    "%matplotlib inline"
   ]
  },
  {
   "cell_type": "code",
   "execution_count": 31,
   "metadata": {},
   "outputs": [
    {
     "data": {
      "text/plain": [
       "(4, 1000)"
      ]
     },
     "execution_count": 31,
     "metadata": {},
     "output_type": "execute_result"
    }
   ],
   "source": [
    "df = pd.read_table('testdata.txt', header=None)\n",
    "df.shape"
   ]
  },
  {
   "cell_type": "markdown",
   "metadata": {},
   "source": [
    "# ex1 a: compute skewness and kurtosis"
   ]
  },
  {
   "cell_type": "code",
   "execution_count": 32,
   "metadata": {},
   "outputs": [
    {
     "name": "stdout",
     "output_type": "stream",
     "text": [
      "stock 1:\t skewness = -0.41\t\tkurtosis = 65.25\n",
      "stock 2:\t skewness = -0.11\t\tkurtosis = 9.13\n",
      "stock 3:\t skewness = 0.08\t\tkurtosis = 7.9\n",
      "stock 4:\t skewness = 0.12\t\tkurtosis = 9.52\n"
     ]
    },
    {
     "data": {
      "image/png": "[encoded data removed]",
      "text/plain": [
       "<matplotlib.figure.Figure at 0x11353a908>"
      ]
     },
     "metadata": {},
     "output_type": "display_data"
    },
    {
     "data": {
      "image/png": "[encoded data removed]",
      "text/plain": [
       "<matplotlib.figure.Figure at 0x113cf57f0>"
      ]
     },
     "metadata": {},
     "output_type": "display_data"
    },
    {
     "data": {
      "image/png": "[encoded data removed]",
      "text/plain": [
       "<matplotlib.figure.Figure at 0x113a099b0>"
      ]
     },
     "metadata": {},
     "output_type": "display_data"
    },
    {
     "data": {
      "image/png": "[encoded data removed]",
      "text/plain": [
       "<matplotlib.figure.Figure at 0x1148a4390>"
      ]
     },
     "metadata": {},
     "output_type": "display_data"
    }
   ],
   "source": [
    "from scipy.stats import moment\n",
    "import scipy\n",
    "\n",
    "for stock in range(df.shape[0]):\n",
    "    \n",
    "    data = df.iloc[stock].tolist()\n",
    "    skew = moment(data, 3)/(np.std(data))**3\n",
    "    kurt = moment(data, 4)/(np.std(data))**4    \n",
    "    print('stock {}:\\t skewness = {}\\t\\tkurtosis = {}'.format(stock+1, round(skew,2), round(kurt,2)))\n",
    "    \n",
    "    plt.figure()\n",
    "    plt.hist(data,bins = 100)\n",
    "    plt.title('stock {}'.format(stock+1))\n",
    "    "
   ]
  },
  {
   "cell_type": "markdown",
   "metadata": {},
   "source": [
    "# EX 1B: ks test"
   ]
  },
  {
   "cell_type": "code",
   "execution_count": 33,
   "metadata": {},
   "outputs": [
    {
     "name": "stdout",
     "output_type": "stream",
     "text": [
      "ks-test: stock 1, pvalue = 0.0, reject null hypothis = True\n",
      "\n",
      "ks-test: stock 2, pvalue = 2e-06, reject null hypothis = True\n",
      "\n",
      "ks-test: stock 3, pvalue = 1.9e-05, reject null hypothis = True\n",
      "\n",
      "ks-test: stock 4, pvalue = 5.9e-05, reject null hypothis = True\n",
      "\n"
     ]
    }
   ],
   "source": [
    "from scipy.stats import kstest\n",
    "\n",
    "for stock in range(0,df.shape[0]):\n",
    "    \n",
    "    current_data = df.iloc[stock].tolist()\n",
    "    \n",
    "    mean = round(np.mean(current_data),4)\n",
    "    std = round(np.std(current_data),4)\n",
    "    \n",
    "    standardize = [ (d - mean)/std for d in current_data ]\n",
    "    d, p_value = kstest(standardize, 'norm') \n",
    "    print('ks-test: stock {}, pvalue = {}, reject null hypothis = {}'.format(stock+1,round(p_value,6), p_value<0.05))\n",
    "    print('')\n",
    "    \n",
    "    #You reject the null hypothesis that the two samples were drawn from the same distribution \n",
    "    #if the p-value is less than your significance level. Thus only the fourth stock can be rejected from the null hypothesis. \n",
    "    #That is , only stock 4 follows the normal distribution"
   ]
  },
  {
   "cell_type": "markdown",
   "metadata": {},
   "source": [
    "# ex 1c body ks test"
   ]
  },
  {
   "cell_type": "code",
   "execution_count": 34,
   "metadata": {},
   "outputs": [
    {
     "name": "stdout",
     "output_type": "stream",
     "text": [
      "ks-test(90%middle):stock 1,pvalue = 0.0568, reject null hypothesis = False\n",
      "\n",
      "ks-test(90%middle):stock 2,pvalue = 0.6856, reject null hypothesis = False\n",
      "\n",
      "ks-test(90%middle):stock 3,pvalue = 0.8791, reject null hypothesis = False\n",
      "\n",
      "ks-test(90%middle):stock 4,pvalue = 0.405, reject null hypothesis = False\n",
      "\n"
     ]
    }
   ],
   "source": [
    "from scipy.stats import kstest, anderson\n",
    "\n",
    "largest_5_percent_num = math.floor(df.shape[1]*0.05)\n",
    "\n",
    "for stock in range(0,df.shape[0]):\n",
    "# for stock in range(0,1):\n",
    "    sort_stock = np.sort(df.iloc[stock].tolist())\n",
    "    \n",
    "    left_tail_returns = sort_stock[:largest_5_percent_num]\n",
    "#     print(len(left_tail_returns)/1000)\n",
    "    middle_returns = sort_stock[(largest_5_percent_num) : -(largest_5_percent_num)]\n",
    "#     print(len(middle_returns)/1000)\n",
    "    right_tail_returns = sort_stock[-largest_5_percent_num:]\n",
    "#     print(len(right_tail_returns)/1000)\n",
    "\n",
    "    mid_mean = round(np.mean(middle_returns),4)\n",
    "    mid_var = round(np.std(middle_returns),4)\n",
    "#     print('stock {}\\'s middle: mean= {}, variance= {}'.format(stock+1, mid_mean, mid_var))\n",
    "    \n",
    "    standardize = [ (s - mid_mean)/mid_var for s in middle_returns ]\n",
    "    d, p_value = kstest(standardize, 'norm') \n",
    "    print('ks-test(90%middle):stock {},pvalue = {}, reject null hypothesis = {}'.format(stock+1, round(p_value,4), p_value<0.05))\n",
    "    print('')\n",
    "    \n",
    "    #You reject the null hypothesis that the two samples were drawn from the same distribution \n",
    "    #if the p-value is less than your significance level. Thus only the fourth stock can be rejected from the null hypothesis. \n",
    "    #That is , only stock 4 follows the normal distribution"
   ]
  },
  {
   "cell_type": "markdown",
   "metadata": {},
   "source": [
    "# Exercise 2 correlation"
   ]
  },
  {
   "cell_type": "code",
   "execution_count": 35,
   "metadata": {},
   "outputs": [
    {
     "name": "stdout",
     "output_type": "stream",
     "text": [
      "          0         1         2         3\n",
      "0  1.000000  0.304139  0.234264  0.249483\n",
      "1  0.304139  1.000000  0.535435  0.459000\n",
      "2  0.234264  0.535435  1.000000  0.465217\n",
      "3  0.249483  0.459000  0.465217  1.000000\n"
     ]
    }
   ],
   "source": [
    "df_transpose = df.transpose()\n",
    "P = df_transpose.corr(method='pearson')\n",
    "print(P)"
   ]
  },
  {
   "cell_type": "markdown",
   "metadata": {},
   "source": [
    "From the Pearson correlation matrix, the most correlated stocks are the second stock and the third stock. The least correlated stocks are the first and the third stocks. "
   ]
  },
  {
   "cell_type": "code",
   "execution_count": 36,
   "metadata": {},
   "outputs": [
    {
     "name": "stdout",
     "output_type": "stream",
     "text": [
      "          0         1         2         3\n",
      "0  1.000000  0.509549  0.395441  0.357192\n",
      "1  0.509549  1.000000  0.447780  0.437340\n",
      "2  0.395441  0.447780  1.000000  0.427456\n",
      "3  0.357192  0.437340  0.427456  1.000000\n"
     ]
    }
   ],
   "source": [
    "S = df_transpose.corr(method='spearman')\n",
    "print(S)"
   ]
  },
  {
   "cell_type": "markdown",
   "metadata": {},
   "source": [
    "From the Spearman correlation matrix, the most correlated stocks are the first stock and the second stock. The least correlated stocks are the first and the last stock. "
   ]
  },
  {
   "cell_type": "markdown",
   "metadata": {},
   "source": [
    "# Exercise 3: network analysis"
   ]
  },
  {
   "cell_type": "code",
   "execution_count": 70,
   "metadata": {},
   "outputs": [
    {
     "data": {
      "text/plain": [
       "(499, 2)"
      ]
     },
     "execution_count": 70,
     "metadata": {},
     "output_type": "execute_result"
    }
   ],
   "source": [
    "edge_list = pd.read_table('network.txt', header=None)\n",
    "edge_list.shape"
   ]
  },
  {
   "cell_type": "markdown",
   "metadata": {},
   "source": [
    "exercise 3a: form adjacency list from link matrix"
   ]
  },
  {
   "cell_type": "code",
   "execution_count": 71,
   "metadata": {},
   "outputs": [
    {
     "data": {
      "text/plain": [
       "500"
      ]
     },
     "execution_count": 71,
     "metadata": {},
     "output_type": "execute_result"
    }
   ],
   "source": [
    "max_node = max(max(edge_list[0].values), max(edge_list[1].values))\n",
    "max_node"
   ]
  },
  {
   "cell_type": "code",
   "execution_count": 74,
   "metadata": {},
   "outputs": [
    {
     "data": {
      "text/plain": [
       "(500, 500)"
      ]
     },
     "execution_count": 74,
     "metadata": {},
     "output_type": "execute_result"
    }
   ],
   "source": [
    "import numpy as np\n",
    "A = np.zeros((500,500))\n",
    "A.shape"
   ]
  },
  {
   "cell_type": "code",
   "execution_count": 75,
   "metadata": {},
   "outputs": [
    {
     "data": {
      "text/plain": [
       "(1, 5)"
      ]
     },
     "execution_count": 75,
     "metadata": {},
     "output_type": "execute_result"
    }
   ],
   "source": [
    "edge_list.iloc[3][0], edge_list.iloc[3][1]"
   ]
  },
  {
   "cell_type": "code",
   "execution_count": 76,
   "metadata": {},
   "outputs": [],
   "source": [
    "for row in range(edge_list.shape[0]):\n",
    "    i = edge_list.iloc[row][0]\n",
    "    j = edge_list.iloc[row][1]\n",
    "    \n",
    "    if A[i-1][j-1] == 0:\n",
    "        A[i-1][j-1] = 1\n",
    "    \n",
    "    if A[j-1][i-1] == 0:\n",
    "        A[j-1][i-1] = 1\n",
    "    "
   ]
  },
  {
   "cell_type": "code",
   "execution_count": 78,
   "metadata": {},
   "outputs": [
    {
     "data": {
      "text/plain": [
       "1.0"
      ]
     },
     "execution_count": 78,
     "metadata": {},
     "output_type": "execute_result"
    }
   ],
   "source": [
    "A[0][4]"
   ]
  },
  {
   "cell_type": "code",
   "execution_count": 88,
   "metadata": {},
   "outputs": [
    {
     "data": {
      "text/plain": [
       "array([  1.,   2.,   3.,   4.,   5.,   6.,   7.,   8.,   9.,  10.,  12.,\n",
       "        13.,  14.,  15.,  16.,  24.,  28.,  32.])"
      ]
     },
     "execution_count": 88,
     "metadata": {},
     "output_type": "execute_result"
    }
   ],
   "source": [
    "# 3b: degree distribution\n",
    "degree = np.sum(A, axis = 1)\n",
    "\n",
    "unique_degree = np.unique(degree)\n",
    "unique_degree"
   ]
  },
  {
   "cell_type": "code",
   "execution_count": 108,
   "metadata": {},
   "outputs": [
    {
     "data": {
      "text/plain": [
       "Counter({1.0: 340,\n",
       "         2.0: 78,\n",
       "         3.0: 28,\n",
       "         4.0: 20,\n",
       "         5.0: 6,\n",
       "         6.0: 4,\n",
       "         7.0: 7,\n",
       "         8.0: 2,\n",
       "         9.0: 5,\n",
       "         10.0: 2,\n",
       "         12.0: 1,\n",
       "         13.0: 1,\n",
       "         14.0: 1,\n",
       "         15.0: 1,\n",
       "         16.0: 1,\n",
       "         24.0: 1,\n",
       "         28.0: 1,\n",
       "         32.0: 1})"
      ]
     },
     "execution_count": 108,
     "metadata": {},
     "output_type": "execute_result"
    }
   ],
   "source": [
    "import collections\n",
    "collections.Counter(degree)"
   ]
  },
  {
   "cell_type": "code",
   "execution_count": 112,
   "metadata": {},
   "outputs": [
    {
     "data": {
      "text/plain": [
       "[<matplotlib.lines.Line2D at 0x119ed2f98>]"
      ]
     },
     "execution_count": 112,
     "metadata": {},
     "output_type": "execute_result"
    },
    {
     "data": {
      "image/png": "[encoded data removed]",
      "text/plain": [
       "<matplotlib.figure.Figure at 0x115ba4cc0>"
      ]
     },
     "metadata": {},
     "output_type": "display_data"
    },
    {
     "data": {
      "image/png": "[encoded data removed]",
      "text/plain": [
       "<matplotlib.figure.Figure at 0x1179e2940>"
      ]
     },
     "metadata": {},
     "output_type": "display_data"
    }
   ],
   "source": [
    "degree_x = [1,2,3,4,5,6,7,8,9,10,12,13,14,15,16,24,28,32]\n",
    "degree_y = [340,78,28,20,6,4,7,2,5,2,1,1,1,1,1,1,1,1]\n",
    "plt.plot(degree_x, degree_y)\n",
    "\n",
    "import math\n",
    "y = degree\n",
    "x = np.sort(y)\n",
    "x = [math.log(i+1) for i in x]\n",
    "y = [math.log(1-k/(len(x)+1) )for k in range(1, len(x)+1, 1)]\n",
    "\n",
    "plt.figure()\n",
    "plt.title('rank-frequency plot on total_mvps (rank1)')\n",
    "plt.xlabel('total_mvps(log)')\n",
    "plt.ylabel('frequency')\n",
    "plt.plot(x,y)\n",
    "\n"
   ]
  },
  {
   "cell_type": "code",
   "execution_count": null,
   "metadata": {},
   "outputs": [],
   "source": [
    "degree_count = []\n",
    "\n",
    "for d in unique_degree:\n",
    "    \n",
    "    cur_degree = degree."
   ]
  },
  {
   "cell_type": "code",
   "execution_count": 94,
   "metadata": {},
   "outputs": [
    {
     "data": {
      "text/plain": [
       "500"
      ]
     },
     "execution_count": 94,
     "metadata": {},
     "output_type": "execute_result"
    }
   ],
   "source": [
    "len(degree)"
   ]
  },
  {
   "cell_type": "code",
   "execution_count": 106,
   "metadata": {},
   "outputs": [
    {
     "name": "stdout",
     "output_type": "stream",
     "text": [
      "right exponent is:1.91\n"
     ]
    }
   ],
   "source": [
    "cut = math.floor(500*0.9)\n",
    "\n",
    "sort_degree = np.sort(degree)\n",
    "\n",
    "body = sort_degree[:cut]\n",
    "tail = sort_degree[ cut : ]\n",
    "\n",
    "minright = min(abs(tail))\n",
    "log_x_right = [ math.log( abs(xi)/abs(minright)) for xi in tail]\n",
    "\n",
    "alpha_right = len(right_tail_returns)/sum(log_x_right)\n",
    "\n",
    "print('right exponent is:{}'.format(round(alpha_right,2)))\n"
   ]
  },
  {
   "cell_type": "code",
   "execution_count": 10,
   "metadata": {},
   "outputs": [
    {
     "name": "stdout",
     "output_type": "stream",
     "text": [
      "0    1.0\n",
      "1    3.0\n",
      "2    2.0\n",
      "3    2.0\n",
      "4    4.0\n",
      "5    4.0\n",
      "dtype: float64\n"
     ]
    }
   ],
   "source": [
    "# 3b: degree sequence\n",
    "p_degree = np.sum(P, axis = 1)\n",
    "print(p_degree)"
   ]
  },
  {
   "cell_type": "markdown",
   "metadata": {},
   "source": [
    "# 3c：eigenvalue centrality"
   ]
  },
  {
   "cell_type": "code",
   "execution_count": 79,
   "metadata": {},
   "outputs": [],
   "source": [
    "# eigenvalue centrality using pearson adjacent matrix\n",
    "eigenvalues, eigenvectors = np.linalg.eig(A)\n",
    "# eigenvalues"
   ]
  },
  {
   "cell_type": "code",
   "execution_count": 84,
   "metadata": {},
   "outputs": [
    {
     "data": {
      "text/plain": [
       "13"
      ]
     },
     "execution_count": 84,
     "metadata": {},
     "output_type": "execute_result"
    }
   ],
   "source": [
    "center_index = 0\n",
    "centrality = abs(eigenvectors[:,center_index])\n",
    "list(centrality).index(max(centrality))+1"
   ]
  },
  {
   "cell_type": "markdown",
   "metadata": {},
   "source": [
    "# 3d:degree"
   ]
  },
  {
   "cell_type": "code",
   "execution_count": 85,
   "metadata": {},
   "outputs": [
    {
     "name": "stdout",
     "output_type": "stream",
     "text": [
      "32.0\n"
     ]
    }
   ],
   "source": [
    "degree = np.sum(A, axis = 1)\n",
    "print(degree[12])"
   ]
  },
  {
   "cell_type": "code",
   "execution_count": 87,
   "metadata": {},
   "outputs": [
    {
     "data": {
      "text/plain": [
       "array([  1.,   1.,   1.,   1.,   1.,   1.,   1.,   1.,   1.,   1.,   1.,\n",
       "         1.,   1.,   1.,   1.,   1.,   1.,   1.,   1.,   1.,   1.,   1.,\n",
       "         1.,   1.,   1.,   1.,   1.,   1.,   1.,   1.,   1.,   1.,   1.,\n",
       "         1.,   1.,   1.,   1.,   1.,   1.,   1.,   1.,   1.,   1.,   1.,\n",
       "         1.,   1.,   1.,   1.,   1.,   1.,   1.,   1.,   1.,   1.,   1.,\n",
       "         1.,   1.,   1.,   1.,   1.,   1.,   1.,   1.,   1.,   1.,   1.,\n",
       "         1.,   1.,   1.,   1.,   1.,   1.,   1.,   1.,   1.,   1.,   1.,\n",
       "         1.,   1.,   1.,   1.,   1.,   1.,   1.,   1.,   1.,   1.,   1.,\n",
       "         1.,   1.,   1.,   1.,   1.,   1.,   1.,   1.,   1.,   1.,   1.,\n",
       "         1.,   1.,   1.,   1.,   1.,   1.,   1.,   1.,   1.,   1.,   1.,\n",
       "         1.,   1.,   1.,   1.,   1.,   1.,   1.,   1.,   1.,   1.,   1.,\n",
       "         1.,   1.,   1.,   1.,   1.,   1.,   1.,   1.,   1.,   1.,   1.,\n",
       "         1.,   1.,   1.,   1.,   1.,   1.,   1.,   1.,   1.,   1.,   1.,\n",
       "         1.,   1.,   1.,   1.,   1.,   1.,   1.,   1.,   1.,   1.,   1.,\n",
       "         1.,   1.,   1.,   1.,   1.,   1.,   1.,   1.,   1.,   1.,   1.,\n",
       "         1.,   1.,   1.,   1.,   1.,   1.,   1.,   1.,   1.,   1.,   1.,\n",
       "         1.,   1.,   1.,   1.,   1.,   1.,   1.,   1.,   1.,   1.,   1.,\n",
       "         1.,   1.,   1.,   1.,   1.,   1.,   1.,   1.,   1.,   1.,   1.,\n",
       "         1.,   1.,   1.,   1.,   1.,   1.,   1.,   1.,   1.,   1.,   1.,\n",
       "         1.,   1.,   1.,   1.,   1.,   1.,   1.,   1.,   1.,   1.,   1.,\n",
       "         1.,   1.,   1.,   1.,   1.,   1.,   1.,   1.,   1.,   1.,   1.,\n",
       "         1.,   1.,   1.,   1.,   1.,   1.,   1.,   1.,   1.,   1.,   1.,\n",
       "         1.,   1.,   1.,   1.,   1.,   1.,   1.,   1.,   1.,   1.,   1.,\n",
       "         1.,   1.,   1.,   1.,   1.,   1.,   1.,   1.,   1.,   1.,   1.,\n",
       "         1.,   1.,   1.,   1.,   1.,   1.,   1.,   1.,   1.,   1.,   1.,\n",
       "         1.,   1.,   1.,   1.,   1.,   1.,   1.,   1.,   1.,   1.,   1.,\n",
       "         1.,   1.,   1.,   1.,   1.,   1.,   1.,   1.,   1.,   1.,   1.,\n",
       "         1.,   1.,   1.,   1.,   1.,   1.,   1.,   1.,   1.,   1.,   1.,\n",
       "         1.,   1.,   1.,   1.,   1.,   1.,   1.,   1.,   1.,   1.,   1.,\n",
       "         1.,   1.,   1.,   1.,   1.,   1.,   1.,   1.,   1.,   1.,   1.,\n",
       "         1.,   1.,   1.,   1.,   1.,   1.,   1.,   1.,   1.,   1.,   2.,\n",
       "         2.,   2.,   2.,   2.,   2.,   2.,   2.,   2.,   2.,   2.,   2.,\n",
       "         2.,   2.,   2.,   2.,   2.,   2.,   2.,   2.,   2.,   2.,   2.,\n",
       "         2.,   2.,   2.,   2.,   2.,   2.,   2.,   2.,   2.,   2.,   2.,\n",
       "         2.,   2.,   2.,   2.,   2.,   2.,   2.,   2.,   2.,   2.,   2.,\n",
       "         2.,   2.,   2.,   2.,   2.,   2.,   2.,   2.,   2.,   2.,   2.,\n",
       "         2.,   2.,   2.,   2.,   2.,   2.,   2.,   2.,   2.,   2.,   2.,\n",
       "         2.,   2.,   2.,   2.,   2.,   2.,   2.,   2.,   2.,   2.,   2.,\n",
       "         3.,   3.,   3.,   3.,   3.,   3.,   3.,   3.,   3.,   3.,   3.,\n",
       "         3.,   3.,   3.,   3.,   3.,   3.,   3.,   3.,   3.,   3.,   3.,\n",
       "         3.,   3.,   3.,   3.,   3.,   3.,   4.,   4.,   4.,   4.,   4.,\n",
       "         4.,   4.,   4.,   4.,   4.,   4.,   4.,   4.,   4.,   4.,   4.,\n",
       "         4.,   4.,   4.,   4.,   5.,   5.,   5.,   5.,   5.,   5.,   6.,\n",
       "         6.,   6.,   6.,   7.,   7.,   7.,   7.,   7.,   7.,   7.,   8.,\n",
       "         8.,   9.,   9.,   9.,   9.,   9.,  10.,  10.,  12.,  13.,  14.,\n",
       "        15.,  16.,  24.,  28.,  32.])"
      ]
     },
     "execution_count": 87,
     "metadata": {},
     "output_type": "execute_result"
    }
   ],
   "source": [
    "degree_sort = np.sort(degree)\n",
    "degree_sort"
   ]
  }
 ],
 "metadata": {
  "kernelspec": {
   "display_name": "Python 3",
   "language": "python",
   "name": "python3"
  },
  "language_info": {
   "codemirror_mode": {
    "name": "ipython",
    "version": 3
   },
   "file_extension": ".py",
   "mimetype": "text/x-python",
   "name": "python",
   "nbconvert_exporter": "python",
   "pygments_lexer": "ipython3",
   "version": "3.6.2"
  }
 },
 "nbformat": 4,
 "nbformat_minor": 2
}
